{
  "nbformat": 4,
  "nbformat_minor": 0,
  "metadata": {
    "colab": {
      "provenance": [],
      "include_colab_link": true
    },
    "kernelspec": {
      "name": "python3",
      "display_name": "Python 3"
    },
    "language_info": {
      "name": "python"
    },
    "widgets": {
      "application/vnd.jupyter.widget-state+json": {
        "393f9517fa394197ad8c43ead4295cb9": {
          "model_module": "@jupyter-widgets/controls",
          "model_name": "HBoxModel",
          "model_module_version": "1.5.0",
          "state": {
            "_dom_classes": [],
            "_model_module": "@jupyter-widgets/controls",
            "_model_module_version": "1.5.0",
            "_model_name": "HBoxModel",
            "_view_count": null,
            "_view_module": "@jupyter-widgets/controls",
            "_view_module_version": "1.5.0",
            "_view_name": "HBoxView",
            "box_style": "",
            "children": [
              "IPY_MODEL_e39079934a684ed087678d41587adc4a",
              "IPY_MODEL_68b90c2c955146d88217541fcf74114a",
              "IPY_MODEL_7f7c18ca7efb44a8b21eb272ad651390"
            ],
            "layout": "IPY_MODEL_72d3d0db97c54b2b90a6d8288df6437d"
          }
        },
        "e39079934a684ed087678d41587adc4a": {
          "model_module": "@jupyter-widgets/controls",
          "model_name": "HTMLModel",
          "model_module_version": "1.5.0",
          "state": {
            "_dom_classes": [],
            "_model_module": "@jupyter-widgets/controls",
            "_model_module_version": "1.5.0",
            "_model_name": "HTMLModel",
            "_view_count": null,
            "_view_module": "@jupyter-widgets/controls",
            "_view_module_version": "1.5.0",
            "_view_name": "HTMLView",
            "description": "",
            "description_tooltip": null,
            "layout": "IPY_MODEL_d57ef730c29b465c954cf8cf9aeff8d5",
            "placeholder": "​",
            "style": "IPY_MODEL_233561cb82494c6fbc9fdc65af61bd2a",
            "value": "100%"
          }
        },
        "68b90c2c955146d88217541fcf74114a": {
          "model_module": "@jupyter-widgets/controls",
          "model_name": "FloatProgressModel",
          "model_module_version": "1.5.0",
          "state": {
            "_dom_classes": [],
            "_model_module": "@jupyter-widgets/controls",
            "_model_module_version": "1.5.0",
            "_model_name": "FloatProgressModel",
            "_view_count": null,
            "_view_module": "@jupyter-widgets/controls",
            "_view_module_version": "1.5.0",
            "_view_name": "ProgressView",
            "bar_style": "success",
            "description": "",
            "description_tooltip": null,
            "layout": "IPY_MODEL_4487963dd3774724897fb90673147f49",
            "max": 100,
            "min": 0,
            "orientation": "horizontal",
            "style": "IPY_MODEL_082371d14e6d4a05990e317bb8e57833",
            "value": 100
          }
        },
        "7f7c18ca7efb44a8b21eb272ad651390": {
          "model_module": "@jupyter-widgets/controls",
          "model_name": "HTMLModel",
          "model_module_version": "1.5.0",
          "state": {
            "_dom_classes": [],
            "_model_module": "@jupyter-widgets/controls",
            "_model_module_version": "1.5.0",
            "_model_name": "HTMLModel",
            "_view_count": null,
            "_view_module": "@jupyter-widgets/controls",
            "_view_module_version": "1.5.0",
            "_view_name": "HTMLView",
            "description": "",
            "description_tooltip": null,
            "layout": "IPY_MODEL_ca5e8a4f16dc489bbefe487a49947c9a",
            "placeholder": "​",
            "style": "IPY_MODEL_63a67436d23d46148ce0ede1bf4ac2eb",
            "value": " 100/100 [00:11&lt;00:00,  8.52it/s]"
          }
        },
        "72d3d0db97c54b2b90a6d8288df6437d": {
          "model_module": "@jupyter-widgets/base",
          "model_name": "LayoutModel",
          "model_module_version": "1.2.0",
          "state": {
            "_model_module": "@jupyter-widgets/base",
            "_model_module_version": "1.2.0",
            "_model_name": "LayoutModel",
            "_view_count": null,
            "_view_module": "@jupyter-widgets/base",
            "_view_module_version": "1.2.0",
            "_view_name": "LayoutView",
            "align_content": null,
            "align_items": null,
            "align_self": null,
            "border": null,
            "bottom": null,
            "display": null,
            "flex": null,
            "flex_flow": null,
            "grid_area": null,
            "grid_auto_columns": null,
            "grid_auto_flow": null,
            "grid_auto_rows": null,
            "grid_column": null,
            "grid_gap": null,
            "grid_row": null,
            "grid_template_areas": null,
            "grid_template_columns": null,
            "grid_template_rows": null,
            "height": null,
            "justify_content": null,
            "justify_items": null,
            "left": null,
            "margin": null,
            "max_height": null,
            "max_width": null,
            "min_height": null,
            "min_width": null,
            "object_fit": null,
            "object_position": null,
            "order": null,
            "overflow": null,
            "overflow_x": null,
            "overflow_y": null,
            "padding": null,
            "right": null,
            "top": null,
            "visibility": null,
            "width": null
          }
        },
        "d57ef730c29b465c954cf8cf9aeff8d5": {
          "model_module": "@jupyter-widgets/base",
          "model_name": "LayoutModel",
          "model_module_version": "1.2.0",
          "state": {
            "_model_module": "@jupyter-widgets/base",
            "_model_module_version": "1.2.0",
            "_model_name": "LayoutModel",
            "_view_count": null,
            "_view_module": "@jupyter-widgets/base",
            "_view_module_version": "1.2.0",
            "_view_name": "LayoutView",
            "align_content": null,
            "align_items": null,
            "align_self": null,
            "border": null,
            "bottom": null,
            "display": null,
            "flex": null,
            "flex_flow": null,
            "grid_area": null,
            "grid_auto_columns": null,
            "grid_auto_flow": null,
            "grid_auto_rows": null,
            "grid_column": null,
            "grid_gap": null,
            "grid_row": null,
            "grid_template_areas": null,
            "grid_template_columns": null,
            "grid_template_rows": null,
            "height": null,
            "justify_content": null,
            "justify_items": null,
            "left": null,
            "margin": null,
            "max_height": null,
            "max_width": null,
            "min_height": null,
            "min_width": null,
            "object_fit": null,
            "object_position": null,
            "order": null,
            "overflow": null,
            "overflow_x": null,
            "overflow_y": null,
            "padding": null,
            "right": null,
            "top": null,
            "visibility": null,
            "width": null
          }
        },
        "233561cb82494c6fbc9fdc65af61bd2a": {
          "model_module": "@jupyter-widgets/controls",
          "model_name": "DescriptionStyleModel",
          "model_module_version": "1.5.0",
          "state": {
            "_model_module": "@jupyter-widgets/controls",
            "_model_module_version": "1.5.0",
            "_model_name": "DescriptionStyleModel",
            "_view_count": null,
            "_view_module": "@jupyter-widgets/base",
            "_view_module_version": "1.2.0",
            "_view_name": "StyleView",
            "description_width": ""
          }
        },
        "4487963dd3774724897fb90673147f49": {
          "model_module": "@jupyter-widgets/base",
          "model_name": "LayoutModel",
          "model_module_version": "1.2.0",
          "state": {
            "_model_module": "@jupyter-widgets/base",
            "_model_module_version": "1.2.0",
            "_model_name": "LayoutModel",
            "_view_count": null,
            "_view_module": "@jupyter-widgets/base",
            "_view_module_version": "1.2.0",
            "_view_name": "LayoutView",
            "align_content": null,
            "align_items": null,
            "align_self": null,
            "border": null,
            "bottom": null,
            "display": null,
            "flex": null,
            "flex_flow": null,
            "grid_area": null,
            "grid_auto_columns": null,
            "grid_auto_flow": null,
            "grid_auto_rows": null,
            "grid_column": null,
            "grid_gap": null,
            "grid_row": null,
            "grid_template_areas": null,
            "grid_template_columns": null,
            "grid_template_rows": null,
            "height": null,
            "justify_content": null,
            "justify_items": null,
            "left": null,
            "margin": null,
            "max_height": null,
            "max_width": null,
            "min_height": null,
            "min_width": null,
            "object_fit": null,
            "object_position": null,
            "order": null,
            "overflow": null,
            "overflow_x": null,
            "overflow_y": null,
            "padding": null,
            "right": null,
            "top": null,
            "visibility": null,
            "width": null
          }
        },
        "082371d14e6d4a05990e317bb8e57833": {
          "model_module": "@jupyter-widgets/controls",
          "model_name": "ProgressStyleModel",
          "model_module_version": "1.5.0",
          "state": {
            "_model_module": "@jupyter-widgets/controls",
            "_model_module_version": "1.5.0",
            "_model_name": "ProgressStyleModel",
            "_view_count": null,
            "_view_module": "@jupyter-widgets/base",
            "_view_module_version": "1.2.0",
            "_view_name": "StyleView",
            "bar_color": null,
            "description_width": ""
          }
        },
        "ca5e8a4f16dc489bbefe487a49947c9a": {
          "model_module": "@jupyter-widgets/base",
          "model_name": "LayoutModel",
          "model_module_version": "1.2.0",
          "state": {
            "_model_module": "@jupyter-widgets/base",
            "_model_module_version": "1.2.0",
            "_model_name": "LayoutModel",
            "_view_count": null,
            "_view_module": "@jupyter-widgets/base",
            "_view_module_version": "1.2.0",
            "_view_name": "LayoutView",
            "align_content": null,
            "align_items": null,
            "align_self": null,
            "border": null,
            "bottom": null,
            "display": null,
            "flex": null,
            "flex_flow": null,
            "grid_area": null,
            "grid_auto_columns": null,
            "grid_auto_flow": null,
            "grid_auto_rows": null,
            "grid_column": null,
            "grid_gap": null,
            "grid_row": null,
            "grid_template_areas": null,
            "grid_template_columns": null,
            "grid_template_rows": null,
            "height": null,
            "justify_content": null,
            "justify_items": null,
            "left": null,
            "margin": null,
            "max_height": null,
            "max_width": null,
            "min_height": null,
            "min_width": null,
            "object_fit": null,
            "object_position": null,
            "order": null,
            "overflow": null,
            "overflow_x": null,
            "overflow_y": null,
            "padding": null,
            "right": null,
            "top": null,
            "visibility": null,
            "width": null
          }
        },
        "63a67436d23d46148ce0ede1bf4ac2eb": {
          "model_module": "@jupyter-widgets/controls",
          "model_name": "DescriptionStyleModel",
          "model_module_version": "1.5.0",
          "state": {
            "_model_module": "@jupyter-widgets/controls",
            "_model_module_version": "1.5.0",
            "_model_name": "DescriptionStyleModel",
            "_view_count": null,
            "_view_module": "@jupyter-widgets/base",
            "_view_module_version": "1.2.0",
            "_view_name": "StyleView",
            "description_width": ""
          }
        }
      }
    }
  },
  "cells": [
    {
      "cell_type": "markdown",
      "metadata": {
        "id": "view-in-github",
        "colab_type": "text"
      },
      "source": [
        "<a href=\"https://colab.research.google.com/github/ainhoaVivel/Boundless/blob/main/P1.ipynb\" target=\"_parent\"><img src=\"https://colab.research.google.com/assets/colab-badge.svg\" alt=\"Open In Colab\"/></a>"
      ]
    },
    {
      "cell_type": "code",
      "execution_count": 70,
      "metadata": {
        "id": "_0Z69lOTLU4w",
        "outputId": "687c57b3-a3fb-4423-b7b6-4740b3fd7c1b",
        "colab": {
          "base_uri": "https://localhost:8080/"
        }
      },
      "outputs": [
        {
          "output_type": "stream",
          "name": "stdout",
          "text": [
            "Mounted at /content/gdrive\n",
            "Doc\t\tmap.txt\t\t\t\t  __pycache__\n",
            "helpers_mod.py\tP1_Barreiro_Gonzalez_Vivel.ipynb  search_mod.py\n"
          ]
        }
      ],
      "source": [
        "import os\n",
        "from google.colab import drive\n",
        "drive.mount('/content/gdrive', force_remount=True)\n",
        "os.chdir('/content/gdrive/My Drive/AIF_P1_data') ## mount Google Drive path where files are saved\n",
        "!ls"
      ]
    },
    {
      "cell_type": "code",
      "source": [
        "def load_data(name=\"map.txt\"):\n",
        "  file = open(name, mode=\"r\")\n",
        "\n",
        "  #We read the header what to hope in the rest of the file\n",
        "  header = file.readline()\n",
        "  header.split(' ')\n",
        "  map_dims = [] #Features of the map\n",
        "  for item in header:\n",
        "    if item.isnumeric(): #The file may contains encode character that we should avoid\n",
        "      map_dims.append(int(item))\n",
        "  map_dims\n",
        "\n",
        "  #Map read process\n",
        "  mapa=[]\n",
        "  for i in range(map_dims[0]):\n",
        "    line = file.readline().split(\" \")\n",
        "    mapa.append(list(map(int, line)))\n",
        "\n",
        "  #Intial satate\n",
        "  line = file.readline().replace(\"\\n\",\"\").split(\" \")\n",
        "  init_state = list(map(int, line))\n",
        "\n",
        "  #Goal state\n",
        "  line = file.readline().replace(\"\\n\",\"\").split(\" \")\n",
        "  goal_state = list(map(int, line))\n",
        "\n",
        "  return map_dims, mapa, init_state, goal_state"
      ],
      "metadata": {
        "id": "3gGx2wKBvVGc"
      },
      "execution_count": 71,
      "outputs": []
    },
    {
      "cell_type": "code",
      "source": [
        "print(load_data())"
      ],
      "metadata": {
        "id": "Slhrc7jrvU9M",
        "outputId": "a97d6c3b-42c9-4fc0-90e2-32e8b51e5e06",
        "colab": {
          "base_uri": "https://localhost:8080/"
        }
      },
      "execution_count": null,
      "outputs": [
        {
          "output_type": "stream",
          "name": "stdout",
          "text": [
            "([6, 8], [[1, 2, 2, 1, 1, 3, 2, 1], [3, 2, 5, 1, 2, 4, 2, 1], [2, 3, 5, 3, 3, 2, 4, 4], [1, 3, 1, 1, 4, 1, 1, 2], [3, 5, 1, 2, 4, 4, 1, 4], [1, 3, 1, 1, 4, 1, 1, 1]], [0, 4, 0], [5, 5, 8])\n"
          ]
        }
      ]
    },
    {
      "cell_type": "code",
      "source": [
        "!ls"
      ],
      "metadata": {
        "id": "lEhKbj43P5Is",
        "outputId": "383e7608-6cf4-444a-8db5-4d387feb047f",
        "colab": {
          "base_uri": "https://localhost:8080/"
        }
      },
      "execution_count": null,
      "outputs": [
        {
          "output_type": "stream",
          "name": "stdout",
          "text": [
            "Doc\t\tmap.txt\t\t\t\t  __pycache__\n",
            "helpers_mod.py\tP1_Barreiro_Gonzalez_Vivel.ipynb  search_mod.py\n"
          ]
        }
      ]
    },
    {
      "cell_type": "markdown",
      "metadata": {
        "id": "342bc92d"
      },
      "source": [
        "El libro de consulta de referencia para esta práctica es el \"Artificial Intelligence: A Modern Approach.\" (conocido como AIMA http://aima.cs.berkeley.edu/) de Russell y Norvig. En particular, el capítulo 3 ofrece una panorámica completa sobre técnicas clásicas de resolución de problemas basadas en búsqueda en espacios de estados. \n",
        "\n",
        "El libro viene con un conjunto de módulos Python que contiene muchos de los algoritmos implementados. Es por ello, que en la medida de lo posible utilizaremos sus implementaciones, que originalmente pueden consultarse en el repositorio de AIMA-Python (https://github.com/aimacode/aima-python), y de los que hemos incorporado una copia adaptada a las necesidades de nuestra Asignatura en este boletín.\n",
        "\n",
        "Para trabajar con los algoritmos de búsqueda relevantes, primero nos familiarizaremos con las clases y funciones clave que nos permitirá resolver problemas mediante estrategias de búsqueda vistas en las sesiones expositiva. Será entonces que trabajaremos con un problema concreto, el 8-puzzle, realizando pequeñas modificaciones al código existente para incorporar y estudiar el comportamiento de las heurísticas. Finalmente, se os pedirá que implementéis completamente una solución al problema del Viajante de Comercio y estudieis las heurísticas que implementeis. \n",
        "\n",
        "¡Empecemos!"
      ]
    },
    {
      "cell_type": "markdown",
      "metadata": {
        "id": "182d7e00"
      },
      "source": [
        "En primer lugar, empecemos por importar los módulos python especialmente preparados para esta Práctica 1."
      ]
    },
    {
      "cell_type": "code",
      "execution_count": null,
      "metadata": {
        "id": "10bee327"
      },
      "outputs": [],
      "source": [
        "# contiene algoritmos de búsqueda implementado en AIMA\n",
        "from search_mod import *\n",
        "\n",
        "# algunas funciones auxiliares\n",
        "from helpers_mod import *"
      ]
    },
    {
      "cell_type": "code",
      "source": [],
      "metadata": {
        "id": "XBKvHKpeP4y4"
      },
      "execution_count": null,
      "outputs": []
    },
    {
      "cell_type": "code",
      "source": [],
      "metadata": {
        "id": "Eg13B8o9P4gg"
      },
      "execution_count": null,
      "outputs": []
    },
    {
      "cell_type": "markdown",
      "source": [
        "- Sublcase de problema. \n",
        "    - Rperesentación internas: \n",
        "        - mapa: que será unha matriz como a obtida da entrada. \n",
        "        - mapa_dims: que serán as dimensións do mapa. \n",
        "        - initial_state:\n",
        "        - goal_sate:\n",
        "    - actions\n",
        "    - is_goal\n",
        "    - action_cost \n",
        "\n",
        "- $state := (x, y, o)$\n",
        "  Sendo x a posición na fila y na columna e o a orientación. O rango de X e Y ven dado polo caso. O rango de $o \\in [0, 1, 2, 3]$. Na especificación contemplamos que se poda introducir outro valor de orientación que tomaremos sempre como indefinido. \n"
      ],
      "metadata": {
        "id": "nVIiytiORGFY"
      }
    },
    {
      "cell_type": "markdown",
      "source": [
        "# New Section"
      ],
      "metadata": {
        "id": "FJEzP-UeM9WR"
      }
    },
    {
      "cell_type": "code",
      "source": [],
      "metadata": {
        "id": "ZtplTMIfjllL"
      },
      "execution_count": null,
      "outputs": []
    },
    {
      "cell_type": "code",
      "source": [
        "from enum import Enum, IntEnum, auto\n",
        "\n",
        "class Action(Enum):\n",
        "  TURN_LEFT = auto()\n",
        "  TURN_RIGHT = auto()\n",
        "  WALK = auto()\n",
        "\n",
        "class Orientation(IntEnum):\n",
        "  NORTH = 0\n",
        "  EAST = 1\n",
        "  SOUTH = 2\n",
        "  WEST = 3\n",
        "  UNDEFINED = 8\n",
        "\n",
        "class PathProblem(Problem):\n",
        "  def __init__(self, map, dims, initial, goal=(0, 0, 8)):\n",
        "    self.map = map\n",
        "    self.dims = dims\n",
        "    self.initial, self.goal = initial, goal\n",
        "\n",
        "  def in_bounds(self, pos):\n",
        "    return 0 <= pos[0] < self.dims[0] and 0 <= pos[1] < self.dims[1]\n",
        "  \n",
        "  def next_pos(self, state):\n",
        "    if state[2] == Orientation.NORTH:\n",
        "      return (state[0], state[1] - 1)\n",
        "    elif state[2] == Orientation.EAST:\n",
        "      return (state[0] + 1, state[1])\n",
        "    elif state[2] == Orientation.SOUTH:\n",
        "      return (state[0], state[1] + 1)\n",
        "    elif state[2] == Orientation.WEST:\n",
        "      return (state[0] - 1, state[1])\n",
        "    else:\n",
        "      raise ValueError(\"Undefined orientation\")\n",
        "  \n",
        "  def actions(self, state):\n",
        "    moves = [Action.TURN_LEFT, Action.TURN_RIGHT]\n",
        "    if self.in_bounds(self.next_pos(state)):\n",
        "      moves.append(Action.WALK)\n",
        "    return moves\n",
        "\n",
        "  def result(self, state, action):\n",
        "    s = list(state)\n",
        "    if action == Action.TURN_LEFT:\n",
        "      s[2] = (s[2] - 1) % 4\n",
        "    elif action == Action.TURN_RIGHT:\n",
        "      s[2] = (s[2] + 1) % 4\n",
        "    elif action == Action.WALK:\n",
        "      s[0:2] = self.next_pos(s)\n",
        "    else:\n",
        "      raise ValueError(\"Invalid action\")\n",
        "    return tuple(s)\n",
        "\n",
        "  def is_goal(self, state):\n",
        "    return state[0:2] == self.goal[0:2]\n",
        "\n",
        "  def action_cost(self, s, a, s1):\n",
        "    if a == Action.WALK:\n",
        "      return self.map[s1[0]][s1[1]]\n",
        "    else:\n",
        "      return 1\n",
        "\n",
        "  def h(self, node):\n",
        "    # Manhattan heuristic\n",
        "    return abs(self.goal[0] - node.state[0]) + abs(self.goal[1] - node.state[1])\n",
        "  \n",
        "  def h_euclidian(self, node):\n",
        "    # Euclidian heuristic\n",
        "    return pow(pow(self.goal[0] - node.state[0], 2) + pow(self.goal[0] - node.state[0], 2), 1/2)\n",
        "  \n",
        "  def h_chebyshev(self, node):\n",
        "    diffs = []\n",
        "    diffs.append(abs(self.goal[0] - node.state[0]))\n",
        "    diffs.append(abs(self.goal[1] - node.state[1]))\n",
        "    return max(diffs)"
      ],
      "metadata": {
        "id": "2KVl1fnXjMrt"
      },
      "execution_count": 77,
      "outputs": []
    },
    {
      "cell_type": "code",
      "source": [
        "def path_problem_from_file(name=\"map.txt\"):\n",
        "  map_dims, map, init_state, goal_state = load_data(name)\n",
        "  return PathProblem(map, map_dims, tuple(init_state), tuple(goal_state))\n"
      ],
      "metadata": {
        "id": "dsRhtrdymff9"
      },
      "execution_count": 78,
      "outputs": []
    },
    {
      "cell_type": "code",
      "source": [
        "problem = path_problem_from_file()"
      ],
      "metadata": {
        "id": "SL77uDQaqtnn",
        "colab": {
          "base_uri": "https://localhost:8080/",
          "height": 312
        },
        "outputId": "f38d8c2f-43ed-4678-9330-d595f1342495"
      },
      "execution_count": 79,
      "outputs": [
        {
          "output_type": "error",
          "ename": "TypeError",
          "evalue": "ignored",
          "traceback": [
            "\u001b[0;31m---------------------------------------------------------------------------\u001b[0m",
            "\u001b[0;31mTypeError\u001b[0m                                 Traceback (most recent call last)",
            "\u001b[0;32m<ipython-input-79-891b1b614d99>\u001b[0m in \u001b[0;36m<module>\u001b[0;34m\u001b[0m\n\u001b[0;32m----> 1\u001b[0;31m \u001b[0mproblem\u001b[0m \u001b[0;34m=\u001b[0m \u001b[0mpath_problem_from_file\u001b[0m\u001b[0;34m(\u001b[0m\u001b[0;34m)\u001b[0m\u001b[0;34m\u001b[0m\u001b[0;34m\u001b[0m\u001b[0m\n\u001b[0m",
            "\u001b[0;32m<ipython-input-78-0e168b0624fa>\u001b[0m in \u001b[0;36mpath_problem_from_file\u001b[0;34m(name)\u001b[0m\n\u001b[1;32m      1\u001b[0m \u001b[0;32mdef\u001b[0m \u001b[0mpath_problem_from_file\u001b[0m\u001b[0;34m(\u001b[0m\u001b[0mname\u001b[0m\u001b[0;34m=\u001b[0m\u001b[0;34m\"map.txt\"\u001b[0m\u001b[0;34m)\u001b[0m\u001b[0;34m:\u001b[0m\u001b[0;34m\u001b[0m\u001b[0;34m\u001b[0m\u001b[0m\n\u001b[0;32m----> 2\u001b[0;31m   \u001b[0mmap_dims\u001b[0m\u001b[0;34m,\u001b[0m \u001b[0mmap\u001b[0m\u001b[0;34m,\u001b[0m \u001b[0minit_state\u001b[0m\u001b[0;34m,\u001b[0m \u001b[0mgoal_state\u001b[0m \u001b[0;34m=\u001b[0m \u001b[0mload_data\u001b[0m\u001b[0;34m(\u001b[0m\u001b[0mname\u001b[0m\u001b[0;34m)\u001b[0m\u001b[0;34m\u001b[0m\u001b[0;34m\u001b[0m\u001b[0m\n\u001b[0m\u001b[1;32m      3\u001b[0m   \u001b[0;32mreturn\u001b[0m \u001b[0mPathProblem\u001b[0m\u001b[0;34m(\u001b[0m\u001b[0mmap\u001b[0m\u001b[0;34m,\u001b[0m \u001b[0mmap_dims\u001b[0m\u001b[0;34m,\u001b[0m \u001b[0mtuple\u001b[0m\u001b[0;34m(\u001b[0m\u001b[0minit_state\u001b[0m\u001b[0;34m)\u001b[0m\u001b[0;34m,\u001b[0m \u001b[0mtuple\u001b[0m\u001b[0;34m(\u001b[0m\u001b[0mgoal_state\u001b[0m\u001b[0;34m)\u001b[0m\u001b[0;34m)\u001b[0m\u001b[0;34m\u001b[0m\u001b[0;34m\u001b[0m\u001b[0m\n",
            "\u001b[0;32m<ipython-input-71-1dca07a7f006>\u001b[0m in \u001b[0;36mload_data\u001b[0;34m(name)\u001b[0m\n\u001b[1;32m     15\u001b[0m   \u001b[0;32mfor\u001b[0m \u001b[0mi\u001b[0m \u001b[0;32min\u001b[0m \u001b[0mrange\u001b[0m\u001b[0;34m(\u001b[0m\u001b[0mmap_dims\u001b[0m\u001b[0;34m[\u001b[0m\u001b[0;36m0\u001b[0m\u001b[0;34m]\u001b[0m\u001b[0;34m)\u001b[0m\u001b[0;34m:\u001b[0m\u001b[0;34m\u001b[0m\u001b[0;34m\u001b[0m\u001b[0m\n\u001b[1;32m     16\u001b[0m     \u001b[0mline\u001b[0m \u001b[0;34m=\u001b[0m \u001b[0mfile\u001b[0m\u001b[0;34m.\u001b[0m\u001b[0mreadline\u001b[0m\u001b[0;34m(\u001b[0m\u001b[0;34m)\u001b[0m\u001b[0;34m.\u001b[0m\u001b[0msplit\u001b[0m\u001b[0;34m(\u001b[0m\u001b[0;34m\" \"\u001b[0m\u001b[0;34m)\u001b[0m\u001b[0;34m\u001b[0m\u001b[0;34m\u001b[0m\u001b[0m\n\u001b[0;32m---> 17\u001b[0;31m     \u001b[0mmapa\u001b[0m\u001b[0;34m.\u001b[0m\u001b[0mappend\u001b[0m\u001b[0;34m(\u001b[0m\u001b[0mlist\u001b[0m\u001b[0;34m(\u001b[0m\u001b[0mmap\u001b[0m\u001b[0;34m(\u001b[0m\u001b[0mint\u001b[0m\u001b[0;34m,\u001b[0m \u001b[0mline\u001b[0m\u001b[0;34m)\u001b[0m\u001b[0;34m)\u001b[0m\u001b[0;34m)\u001b[0m\u001b[0;34m\u001b[0m\u001b[0;34m\u001b[0m\u001b[0m\n\u001b[0m\u001b[1;32m     18\u001b[0m \u001b[0;34m\u001b[0m\u001b[0m\n\u001b[1;32m     19\u001b[0m   \u001b[0;31m#Intial satate\u001b[0m\u001b[0;34m\u001b[0m\u001b[0;34m\u001b[0m\u001b[0;34m\u001b[0m\u001b[0m\n",
            "\u001b[0;31mTypeError\u001b[0m: 'list' object is not callable"
          ]
        }
      ]
    },
    {
      "cell_type": "code",
      "source": [
        "sol =  astar_search(problem)"
      ],
      "metadata": {
        "id": "02-15OZbqx_X"
      },
      "execution_count": 81,
      "outputs": []
    },
    {
      "cell_type": "code",
      "source": [
        "print(\"Nodo solución: \", sol)\n",
        "print (f'Coste del camino: {sol.path_cost:f}')\n",
        "print (f'Lista de acciones: {path_actions(sol)}')\n",
        "print (f'Lista de estados:')\n",
        "print (path_states(sol))"
      ],
      "metadata": {
        "colab": {
          "base_uri": "https://localhost:8080/"
        },
        "id": "bD93Yr0griBK",
        "outputId": "34049278-cd2d-422a-c3e9-c2a0588421f9"
      },
      "execution_count": 168,
      "outputs": [
        {
          "output_type": "stream",
          "name": "stdout",
          "text": [
            "Nodo solución:  <(7, 4, 1)>\n",
            "Coste del camino: 13.000000\n",
            "Lista de acciones: [<Action.TURN_LEFT: 1>, <Action.WALK: 3>, <Action.WALK: 3>, <Action.WALK: 3>, <Action.TURN_RIGHT: 2>, <Action.WALK: 3>]\n",
            "Lista de estados:\n",
            "[(6, 7, 1), (6, 7, 0), (6, 6, 0), (6, 5, 0), (6, 4, 0), (6, 4, 1), (7, 4, 1)]\n"
          ]
        }
      ]
    },
    {
      "cell_type": "code",
      "source": [
        "def print_state(depth, cost, action, state):\n",
        "  print(\"[\",depth, cost, action,\"(\",state[0],\",\",state[1],\")\",Orientation(state[2]).name,\"]\")\n",
        "\n",
        "def print_path(sol):\n",
        "  states=path_states(sol)\n",
        "  #Initial state\n",
        "  depth=0\n",
        "  print_state(depth,0,\"ini\",states[0])\n",
        "  states.pop(0)\n",
        "  for action, state in zip(path_actions(sol), states):\n",
        "    print(action.name)\n",
        "    depth+=1\n",
        "    print_state(depth,0,action.name,state)\n"
      ],
      "metadata": {
        "id": "i-Qa8Px3iSIz"
      },
      "execution_count": 183,
      "outputs": []
    },
    {
      "cell_type": "code",
      "source": [
        "print_path(sol)"
      ],
      "metadata": {
        "colab": {
          "base_uri": "https://localhost:8080/"
        },
        "id": "zYeTBkV5i0u5",
        "outputId": "83aa69df-a93a-4145-e726-5678cbaa331e"
      },
      "execution_count": 184,
      "outputs": [
        {
          "output_type": "stream",
          "name": "stdout",
          "text": [
            "[ 0 0 ini ( 6 , 7 ) EAST ]\n",
            "TURN_LEFT\n",
            "[ 1 0 TURN_LEFT ( 6 , 7 ) NORTH ]\n",
            "WALK\n",
            "[ 2 0 WALK ( 6 , 6 ) NORTH ]\n",
            "WALK\n",
            "[ 3 0 WALK ( 6 , 5 ) NORTH ]\n",
            "WALK\n",
            "[ 4 0 WALK ( 6 , 4 ) NORTH ]\n",
            "TURN_RIGHT\n",
            "[ 5 0 TURN_RIGHT ( 6 , 4 ) EAST ]\n",
            "WALK\n",
            "[ 6 0 WALK ( 7 , 4 ) EAST ]\n"
          ]
        }
      ]
    },
    {
      "cell_type": "markdown",
      "source": [
        "## Functions to generate aleatory maps and positions"
      ],
      "metadata": {
        "id": "VAi4HW8nGl3q"
      }
    },
    {
      "cell_type": "code",
      "source": [
        "import random\n",
        "\n",
        "\n",
        "def gen_map(n, m):\n",
        "  map = []\n",
        "  for i in range(n):\n",
        "    map_line = []\n",
        "    for j in range(m):\n",
        "      map_line.append(random.randint(1, 5))\n",
        "    map.append(map_line)\n",
        "  return map, (n, m)\n",
        "\n",
        "gen_map(3, 3) \n",
        "\n",
        "def gen_position(n, m):\n",
        "  return (random.randint(0, n-1), random.randint(0, m-1), random.randint(0, 3))\n",
        "\n",
        "gen_position(3,3)"
      ],
      "metadata": {
        "colab": {
          "base_uri": "https://localhost:8080/"
        },
        "id": "CdhL3Q9dGtLE",
        "outputId": "d3226d78-57e6-4962-c11d-22ddb1ee8073"
      },
      "execution_count": 102,
      "outputs": [
        {
          "output_type": "execute_result",
          "data": {
            "text/plain": [
              "(2, 2, 3)"
            ]
          },
          "metadata": {},
          "execution_count": 102
        }
      ]
    },
    {
      "cell_type": "markdown",
      "source": [
        "## Tests"
      ],
      "metadata": {
        "id": "YVDTAZJDEiIi"
      }
    },
    {
      "cell_type": "code",
      "source": [
        "map_sizes = [3,4,5,6,7,8,9]\n",
        "n_maps = 4\n",
        "n_positions = 5"
      ],
      "metadata": {
        "id": "lJN63HBQvUUc"
      },
      "execution_count": 72,
      "outputs": []
    },
    {
      "cell_type": "code",
      "source": [
        "pip install tqdm"
      ],
      "metadata": {
        "id": "ENgT9AwnOdZg",
        "outputId": "601acff2-a77b-4169-de18-572fcd4891d8",
        "colab": {
          "base_uri": "https://localhost:8080/"
        }
      },
      "execution_count": 73,
      "outputs": [
        {
          "output_type": "stream",
          "name": "stdout",
          "text": [
            "Looking in indexes: https://pypi.org/simple, https://us-python.pkg.dev/colab-wheels/public/simple/\n",
            "Requirement already satisfied: tqdm in /usr/local/lib/python3.7/dist-packages (4.64.1)\n"
          ]
        }
      ]
    },
    {
      "cell_type": "code",
      "source": [
        "from tqdm.notebook import tqdm\n",
        "from numpy import mean\n",
        "\n",
        "costs = []\n",
        "\n",
        "for rep in tqdm(range(100)):\n",
        "  for size in map_sizes:\n",
        "    for i in range(n_maps):\n",
        "      map, map_dims = gen_map(size, size)\n",
        "      for i in range(n_positions):\n",
        "        init_pos = gen_position(size, size)\n",
        "        goal_pos = gen_position(size, size)\n",
        "        problem = PathProblem(map, map_dims, init_pos, goal_pos)\n",
        "        sol =  astar_search(problem)\n",
        "        costs.append(sol.path_cost)\n",
        "\n",
        "print(mean(costs))\n"
      ],
      "metadata": {
        "colab": {
          "base_uri": "https://localhost:8080/",
          "height": 66,
          "referenced_widgets": [
            "393f9517fa394197ad8c43ead4295cb9",
            "e39079934a684ed087678d41587adc4a",
            "68b90c2c955146d88217541fcf74114a",
            "7f7c18ca7efb44a8b21eb272ad651390",
            "72d3d0db97c54b2b90a6d8288df6437d",
            "d57ef730c29b465c954cf8cf9aeff8d5",
            "233561cb82494c6fbc9fdc65af61bd2a",
            "4487963dd3774724897fb90673147f49",
            "082371d14e6d4a05990e317bb8e57833",
            "ca5e8a4f16dc489bbefe487a49947c9a",
            "63a67436d23d46148ce0ede1bf4ac2eb"
          ]
        },
        "id": "2jzrJVJaFF2G",
        "outputId": "b26c75dd-5ea0-4cc8-ebe7-d2a20fa96d8c"
      },
      "execution_count": 106,
      "outputs": [
        {
          "output_type": "display_data",
          "data": {
            "text/plain": [
              "  0%|          | 0/100 [00:00<?, ?it/s]"
            ],
            "application/vnd.jupyter.widget-view+json": {
              "version_major": 2,
              "version_minor": 0,
              "model_id": "393f9517fa394197ad8c43ead4295cb9"
            }
          },
          "metadata": {}
        },
        {
          "output_type": "stream",
          "name": "stdout",
          "text": [
            "11.77207142857143\n"
          ]
        }
      ]
    },
    {
      "cell_type": "code",
      "source": [],
      "metadata": {
        "id": "yzOLZwiKFFml"
      },
      "execution_count": null,
      "outputs": []
    }
  ]
}